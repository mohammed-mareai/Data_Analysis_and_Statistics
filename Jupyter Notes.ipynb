{
 "cells": [
  {
   "cell_type": "markdown",
   "id": "6e498c5a-6d61-4cf5-b63b-f309379bf0cd",
   "metadata": {},
   "source": [
    "# Jupyter Notebook Hacks\n",
    "You can double-click in each cell to view what is actully written. "
   ]
  },
  {
   "cell_type": "markdown",
   "id": "ea0ebce9-5b2b-4e69-a3d9-55db43b41847",
   "metadata": {},
   "source": [
    "## Create a title"
   ]
  },
  {
   "cell_type": "markdown",
   "id": "5fe96341-5c77-4456-825d-89d6b23eba73",
   "metadata": {},
   "source": [
    "Use Mardown first, then write in the cell # + space + your title.\n",
    "(# first title\n",
    "(## second title\n",
    "(### third title\n",
    "and so on"
   ]
  },
  {
   "cell_type": "markdown",
   "id": "1255a693-2d5c-492a-9524-fbcdba05a78a",
   "metadata": {},
   "source": [
    "## text effects"
   ]
  },
  {
   "cell_type": "markdown",
   "id": "f5a336bd-d214-411e-b993-e59fc51721fb",
   "metadata": {},
   "source": [
    "add ** in the beginning and end: \n",
    "**This is a bold text**\n",
    "\n",
    "add * at the beginning and end: \n",
    "*This is Italic text*\n",
    "\n",
    "add *** at the beginning and end: \n",
    "***This is Italic and Bold***"
   ]
  },
  {
   "cell_type": "markdown",
   "id": "a74f5afc-fc16-4d20-b8b5-cd204d3289dd",
   "metadata": {},
   "source": [
    "## paragraphs effects"
   ]
  },
  {
   "cell_type": "markdown",
   "id": "9a78c372-7107-4a0d-b260-4d06ece7f18e",
   "metadata": {},
   "source": [
    "**Add > before to make indenting**\n",
    "> this example"
   ]
  },
  {
   "cell_type": "markdown",
   "id": "d3602d1d-5016-4b5c-9af5-52d93434ed40",
   "metadata": {},
   "source": [
    "**Add - or * to make bullets and enter tab to make sub-bullets**\n",
    "- this is the main bullet\n",
    "    * this is sub-bullet\n",
    "\n",
    "*search for geometric shapes to add special bullets*"
   ]
  },
  {
   "cell_type": "markdown",
   "id": "d50b7464-a5c7-416f-ab61-8e096b85362d",
   "metadata": {},
   "source": [
    "**Add 1. to start numbering**\n",
    "1. example 1\n",
    "2. and keep going"
   ]
  },
  {
   "cell_type": "markdown",
   "id": "bdaa8859-0e85-4dfa-af8c-5c6f684d6f8e",
   "metadata": {},
   "source": [
    "**Add** (***) or (---) or (___) **to create a line**\n",
    "\n",
    "***\n",
    "\n",
    "---\n",
    "\n",
    "___"
   ]
  },
  {
   "cell_type": "markdown",
   "id": "7e0a441f-ad71-469b-a8ac-d2e40c1b2d4a",
   "metadata": {},
   "source": [
    "**Start New line by adding two spaces after the line**  \n",
    "line one  \n",
    "line two"
   ]
  },
  {
   "cell_type": "markdown",
   "id": "cc37702f-adbe-4119-bc9a-fae8a4670293",
   "metadata": {},
   "source": [
    "**Use two (()) to add external link**  \n",
    "line is ((https://www.youtube.com/watch?v=r-uOLxNrNk8))"
   ]
  },
  {
   "cell_type": "markdown",
   "id": "f86e50d3-5726-4701-8ce8-6629b8556de8",
   "metadata": {},
   "source": [
    "**Use ![headline] and link address to add picture**  \n",
    "![logo](https://www.python.org/static/community_logos/python-logo-master-v3-TM.png)"
   ]
  },
  {
   "cell_type": "markdown",
   "id": "b486ffcf-9919-4d06-af31-d08d60d3a3c6",
   "metadata": {},
   "source": [
    "**Use two ~~ to make strikethrough**  \n",
    "~~example~~"
   ]
  },
  {
   "cell_type": "markdown",
   "id": "331d01e7-4e3a-4add-ae02-b82d59da57d9",
   "metadata": {},
   "source": [
    "Use Backtick to add a code block  \n",
    "This is a `print(\"code block\")` section"
   ]
  },
  {
   "cell_type": "markdown",
   "id": "58169b20-abfb-433f-9f99-46550947ad7a",
   "metadata": {},
   "source": [
    "Use <> for URL and email addresses  \n",
    "<mohammedfirst554@gmail.com>"
   ]
  },
  {
   "cell_type": "markdown",
   "id": "a0550a1a-17a8-4ff6-b4c9-575202732858",
   "metadata": {},
   "source": [
    "**Use | and --- to separate**\n",
    "|name | Age|  \n",
    "|-------|------|\n",
    "|Mohammmed| 20|  "
   ]
  },
  {
   "cell_type": "markdown",
   "id": "2077c32f-ba94-4bd9-be2b-0b57974dcef2",
   "metadata": {},
   "source": [
    "**Use font color=\"\" and  /font inside <> to change color**  \n",
    "<font color=\"Blue\"> Example </font>"
   ]
  },
  {
   "cell_type": "markdown",
   "id": "17023a3d-731f-4f97-ad11-cd427e308736",
   "metadata": {},
   "source": [
    "** use size = \"\" to change the font size**  \n",
    "<font size=\"5\"> Example </font>"
   ]
  },
  {
   "cell_type": "code",
   "execution_count": null,
   "id": "9de4c755-faa5-4af5-93d6-359d23347510",
   "metadata": {},
   "outputs": [],
   "source": []
  }
 ],
 "metadata": {
  "kernelspec": {
   "display_name": "Python 3 (ipykernel)",
   "language": "python",
   "name": "python3"
  },
  "language_info": {
   "codemirror_mode": {
    "name": "ipython",
    "version": 3
   },
   "file_extension": ".py",
   "mimetype": "text/x-python",
   "name": "python",
   "nbconvert_exporter": "python",
   "pygments_lexer": "ipython3",
   "version": "3.12.1"
  }
 },
 "nbformat": 4,
 "nbformat_minor": 5
}
